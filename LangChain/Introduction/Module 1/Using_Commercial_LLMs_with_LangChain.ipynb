{
 "cells": [
  {
   "cell_type": "markdown",
   "metadata": {
    "application/vnd.databricks.v1+cell": {
     "cellMetadata": {},
     "inputWidgets": {},
     "nuid": "25397567-36f9-4dbb-bf56-8e53e6cf2b99",
     "showTitle": false,
     "tableResultSettingsMap": {},
     "title": ""
    },
    "id": "ZEUwOj-GYnm8"
   },
   "source": [
    "# Using Commercial LLMs with LangChain\n",
    "\n",
    "Here we will see briefly how you can use popular commercial LLM APIs with LangChain including\n",
    "\n",
    "- OpenAI GPT (Paid)\n",
    "- Google Gemini (Paid and Free)"
   ]
  },
  {
   "cell_type": "markdown",
   "metadata": {
    "application/vnd.databricks.v1+cell": {
     "cellMetadata": {},
     "inputWidgets": {},
     "nuid": "6d03fda3-34c5-4dd4-819a-3143668f9009",
     "showTitle": false,
     "tableResultSettingsMap": {},
     "title": ""
    },
    "id": "xWR3sUEoYj9R"
   },
   "source": [
    "## Install Dependencies"
   ]
  },
  {
   "cell_type": "code",
   "execution_count": 0,
   "metadata": {
    "application/vnd.databricks.v1+cell": {
     "cellMetadata": {},
     "inputWidgets": {},
     "nuid": "3c7ac368-ebb3-4104-bfc7-d6ab885c633d",
     "showTitle": false,
     "tableResultSettingsMap": {},
     "title": ""
    },
    "colab": {
     "base_uri": "https://localhost:8080/"
    },
    "collapsed": true,
    "id": "YeG3DmGq4uV-",
    "jupyter": {
     "outputs_hidden": true
    },
    "outputId": "e572ec26-f6a9-4123-fb79-ca8423164491",
    "scrolled": true
   },
   "outputs": [],
   "source": [
    "!pip install langchain==0.3.11\n",
    "!pip install langchain-openai==0.2.12\n",
    "!pip install langchain-google-genai==2.0.6"
   ]
  },
  {
   "cell_type": "markdown",
   "metadata": {
    "application/vnd.databricks.v1+cell": {
     "cellMetadata": {},
     "inputWidgets": {},
     "nuid": "5b8dd035-2770-4302-8f49-026ace31c631",
     "showTitle": false,
     "tableResultSettingsMap": {},
     "title": ""
    },
    "id": "eQCfDLCm9-nR"
   },
   "source": [
    "# Enter API Keys\n",
    "\n",
    "Here you need to get API keys from the following websites based on your LLM preference:\n",
    "\n",
    "- Open AI API Key: Go [here](https://platform.openai.com/account/api-keys) and create a key, you need to setup an account and your own billing as this is a paid API. Unfortunately as per recent updates, OpenAI has phased out the free 5\\$ credits. In order to use the API, you now have to pay in your own funds (min: 5\\$).\n",
    "\n",
    "- Gemini API Key: Go [here](https://aistudio.google.com/app/u/0/apikey) and create a key, you just need a gmail account to sign in. Till now (mid-2024 so far), Gemini keys do not need billing as mentioned [here](https://ai.google.dev/pricing)\n",
    "\n"
   ]
  },
  {
   "cell_type": "markdown",
   "metadata": {
    "application/vnd.databricks.v1+cell": {
     "cellMetadata": {},
     "inputWidgets": {},
     "nuid": "aa53732a-03e7-4e0b-9403-5df64c2bb52f",
     "showTitle": false,
     "tableResultSettingsMap": {},
     "title": ""
    },
    "id": "Bq63frTqnggW"
   },
   "source": [
    "## Load OpenAI API Credentials\n"
   ]
  },
  {
   "cell_type": "code",
   "execution_count": 0,
   "metadata": {
    "application/vnd.databricks.v1+cell": {
     "cellMetadata": {},
     "inputWidgets": {},
     "nuid": "dbbfe2e5-18c3-4d00-b840-e858cbef0e5d",
     "showTitle": false,
     "tableResultSettingsMap": {},
     "title": ""
    },
    "colab": {
     "base_uri": "https://localhost:8080/"
    },
    "id": "FN3v667tnggW",
    "outputId": "11765589-6524-4c64-8ca3-31e7dd0b3551"
   },
   "outputs": [],
   "source": [
    "from getpass import getpass\n",
    "\n",
    "openai_key = getpass(\"Enter your OpenAI API Key: \")"
   ]
  },
  {
   "cell_type": "markdown",
   "metadata": {
    "application/vnd.databricks.v1+cell": {
     "cellMetadata": {},
     "inputWidgets": {},
     "nuid": "ff94d733-b433-4d72-86a9-b6b5e840c55c",
     "showTitle": false,
     "tableResultSettingsMap": {},
     "title": ""
    },
    "id": "ECwTh8pPCHi3"
   },
   "source": [
    "## Configure Open AI Key in Environment"
   ]
  },
  {
   "cell_type": "code",
   "execution_count": 0,
   "metadata": {
    "application/vnd.databricks.v1+cell": {
     "cellMetadata": {},
     "inputWidgets": {},
     "nuid": "2801b892-b870-4cca-a416-b99a47424951",
     "showTitle": false,
     "tableResultSettingsMap": {},
     "title": ""
    },
    "id": "UqzjDnlHCHjD"
   },
   "outputs": [],
   "source": [
    "import os\n",
    "\n",
    "os.environ['OPENAI_API_KEY'] = openai_key"
   ]
  },
  {
   "cell_type": "markdown",
   "metadata": {
    "application/vnd.databricks.v1+cell": {
     "cellMetadata": {},
     "inputWidgets": {},
     "nuid": "f6c86763-a464-4c5e-8c55-9c82f7d6fb6f",
     "showTitle": false,
     "tableResultSettingsMap": {},
     "title": ""
    },
    "id": "17FqNZFCKeOu"
   },
   "source": [
    "## Use OpenAI ChatGPT with LangChain"
   ]
  },
  {
   "cell_type": "code",
   "execution_count": 0,
   "metadata": {
    "application/vnd.databricks.v1+cell": {
     "cellMetadata": {},
     "inputWidgets": {},
     "nuid": "b5d5e816-1f24-4d27-ad68-69b25f210636",
     "showTitle": false,
     "tableResultSettingsMap": {},
     "title": ""
    },
    "colab": {
     "base_uri": "https://localhost:8080/"
    },
    "id": "_OvhzE9TCU3a",
    "outputId": "c0ad5645-f66c-49fd-d3d9-afc1bfe855b5"
   },
   "outputs": [],
   "source": [
    "from langchain_core.prompts import ChatPromptTemplate\n",
    "from langchain_openai import ChatOpenAI\n",
    "\n",
    "chatgpt = ChatOpenAI(model_name='gpt-4o-mini', temperature=0)\n",
    "\n",
    "PROMPT = \"Explain {topic} in 2 bullets\"\n",
    "prompt = ChatPromptTemplate.from_template(PROMPT)\n",
    "\n",
    "chain = (\n",
    "         prompt\n",
    "           |\n",
    "         chatgpt\n",
    ")\n",
    "\n",
    "response = chain.invoke({\"topic\": \"AI\"})\n",
    "print(response.content)"
   ]
  },
  {
   "cell_type": "markdown",
   "metadata": {
    "application/vnd.databricks.v1+cell": {
     "cellMetadata": {},
     "inputWidgets": {},
     "nuid": "75fa5b61-542a-44b3-a08b-28f9a2e92aad",
     "showTitle": false,
     "tableResultSettingsMap": {},
     "title": ""
    },
    "id": "LS7koM2emZ_M"
   },
   "source": [
    "## Load Gemini API credentials\n",
    "\n",
    "Run this section only if you are using Google Gemini"
   ]
  },
  {
   "cell_type": "code",
   "execution_count": 0,
   "metadata": {
    "application/vnd.databricks.v1+cell": {
     "cellMetadata": {},
     "inputWidgets": {},
     "nuid": "c552dc66-b5c0-453f-bcc8-b78ce234d85d",
     "showTitle": false,
     "tableResultSettingsMap": {},
     "title": ""
    },
    "colab": {
     "base_uri": "https://localhost:8080/"
    },
    "id": "YgpTrZ6rVd4I",
    "outputId": "e9a33b79-fe1f-4f18-880d-0cec54291ace"
   },
   "outputs": [],
   "source": [
    "from getpass import getpass\n",
    "\n",
    "gemini_key = getpass(\"Enter your Gemini API Key: \")"
   ]
  },
  {
   "cell_type": "markdown",
   "metadata": {
    "application/vnd.databricks.v1+cell": {
     "cellMetadata": {},
     "inputWidgets": {},
     "nuid": "f71e0cfe-3954-443e-b317-31a0b9aaa57f",
     "showTitle": false,
     "tableResultSettingsMap": {},
     "title": ""
    },
    "id": "_Ly7xD0MCHjE"
   },
   "source": [
    "## Configure Gemini Key in Environment"
   ]
  },
  {
   "cell_type": "code",
   "execution_count": 0,
   "metadata": {
    "application/vnd.databricks.v1+cell": {
     "cellMetadata": {},
     "inputWidgets": {},
     "nuid": "ff63e2ba-8382-4670-bf14-fc3d14420048",
     "showTitle": false,
     "tableResultSettingsMap": {},
     "title": ""
    },
    "id": "Y5niUeGJCHjE"
   },
   "outputs": [],
   "source": [
    "import os\n",
    "\n",
    "os.environ[\"GOOGLE_API_KEY\"] = gemini_key"
   ]
  },
  {
   "cell_type": "markdown",
   "metadata": {
    "application/vnd.databricks.v1+cell": {
     "cellMetadata": {},
     "inputWidgets": {},
     "nuid": "7edf9478-4961-4f31-8b3b-bec75c0175cf",
     "showTitle": false,
     "tableResultSettingsMap": {},
     "title": ""
    },
    "id": "nBNibOfdKhgD"
   },
   "source": [
    "## Use Gemini for Prompting"
   ]
  },
  {
   "cell_type": "code",
   "execution_count": 0,
   "metadata": {
    "application/vnd.databricks.v1+cell": {
     "cellMetadata": {},
     "inputWidgets": {},
     "nuid": "5f850182-c73e-4dd0-85ef-db3645d60723",
     "showTitle": false,
     "tableResultSettingsMap": {},
     "title": ""
    },
    "colab": {
     "base_uri": "https://localhost:8080/"
    },
    "id": "U0ejufhnDUMB",
    "outputId": "167b14af-9a92-452e-ed97-2c7210e53396"
   },
   "outputs": [],
   "source": [
    "from langchain_core.prompts import ChatPromptTemplate\n",
    "from langchain_google_genai import ChatGoogleGenerativeAI\n",
    "\n",
    "gemini = ChatGoogleGenerativeAI(model=\"gemini-1.5-flash-latest\")\n",
    "\n",
    "PROMPT = \"Explain {topic} in 2 bullets\"\n",
    "prompt = ChatPromptTemplate.from_template(PROMPT)\n",
    "\n",
    "chain = (\n",
    "         prompt\n",
    "           |\n",
    "         gemini\n",
    ")\n",
    "\n",
    "response = chain.invoke({\"topic\": \"AI\"})\n",
    "print(response.content)"
   ]
  }
 ],
 "metadata": {
  "application/vnd.databricks.v1+notebook": {
   "computePreferences": null,
   "dashboards": [],
   "environmentMetadata": null,
   "language": "python",
   "notebookMetadata": {},
   "notebookName": "Using_Commercial_LLMs_with_LangChain",
   "widgets": {}
  },
  "colab": {
   "provenance": []
  },
  "kernelspec": {
   "display_name": "Python 3 (ipykernel)",
   "language": "python",
   "name": "python3"
  },
  "language_info": {
   "name": "python"
  }
 },
 "nbformat": 4,
 "nbformat_minor": 0
}
