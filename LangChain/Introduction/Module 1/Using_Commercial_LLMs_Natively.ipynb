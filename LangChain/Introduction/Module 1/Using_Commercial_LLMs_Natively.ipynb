{
 "cells": [
  {
   "cell_type": "markdown",
   "metadata": {
    "application/vnd.databricks.v1+cell": {
     "cellMetadata": {},
     "inputWidgets": {},
     "nuid": "c7cbc56c-bee5-4fa1-b497-cdd5ad5abcdd",
     "showTitle": false,
     "tableResultSettingsMap": {},
     "title": ""
    },
    "id": "ZEUwOj-GYnm8"
   },
   "source": [
    "# Using Commercial LLMs Natively\n",
    "\n",
    "Here we will see briefly how you can use popular commercial LLM APIs including\n",
    "\n",
    "- OpenAI GPT (Paid)\n",
    "- Google Gemini (Paid and Free)"
   ]
  },
  {
   "cell_type": "markdown",
   "metadata": {
    "application/vnd.databricks.v1+cell": {
     "cellMetadata": {},
     "inputWidgets": {},
     "nuid": "119565e3-56f3-4f5f-9b27-3a475b8a00e2",
     "showTitle": false,
     "tableResultSettingsMap": {},
     "title": ""
    },
    "id": "xWR3sUEoYj9R"
   },
   "source": [
    "## Install Dependencies"
   ]
  },
  {
   "cell_type": "code",
   "execution_count": 0,
   "metadata": {
    "application/vnd.databricks.v1+cell": {
     "cellMetadata": {},
     "inputWidgets": {},
     "nuid": "748d5bc7-5d95-4d45-82ff-6b867909c8d1",
     "showTitle": false,
     "tableResultSettingsMap": {},
     "title": ""
    },
    "colab": {
     "base_uri": "https://localhost:8080/"
    },
    "id": "YeG3DmGq4uV-",
    "outputId": "42bc923a-e0db-4ee5-b492-7d9ab99233b2"
   },
   "outputs": [],
   "source": [
    "!pip install openai==1.57.0\n",
    "!pip install google-generativeai==0.8.3"
   ]
  },
  {
   "cell_type": "markdown",
   "metadata": {
    "application/vnd.databricks.v1+cell": {
     "cellMetadata": {},
     "inputWidgets": {},
     "nuid": "48419eb3-f4f9-45c4-9051-56de93f8d4e4",
     "showTitle": false,
     "tableResultSettingsMap": {},
     "title": ""
    },
    "id": "eQCfDLCm9-nR"
   },
   "source": [
    "## Get OpenAI API Key\n",
    "\n",
    "Here you need to get API keys from the following websites based on your LLM preference:\n",
    "\n",
    "- Open AI API Key: Go [here](https://platform.openai.com/account/api-keys) and create a key, you need to setup an account and your own billing as this is a paid API. Unfortunately as per recent updates, OpenAI has phased out the free 5\\$ credits. In order to use the API, you now have to pay in your own funds (min: 5\\$).\n",
    "\n",
    "\n",
    "1. Go to [Settings -> Billing](https://platform.openai.com/settings/organization/billing/overview) after creating your account and make sure to add in a payment method and do a minimum 5$ topup (good enough for 1000s of calls as you are charged per token)\n",
    "\n",
    "![](https://i.imgur.com/pXgs31r.png)\n",
    "\n",
    "2. Go to [Dashboard -> API Keys](https://platform.openai.com/api-keys) and create a new project API key as shown below.\n",
    "\n",
    "\n",
    "![](https://i.imgur.com/YbIBBtc.png)\n",
    "\n",
    "\n",
    "\n",
    "3. Remember to __Save__ your key somewhere safe as it will just be shown once as shown below. So copy and save it in a local secure file to use it later on. If you forget, just create a new key anytime.\n",
    "\n",
    "![](https://i.imgur.com/myFXgZg.png)"
   ]
  },
  {
   "cell_type": "markdown",
   "metadata": {
    "application/vnd.databricks.v1+cell": {
     "cellMetadata": {},
     "inputWidgets": {},
     "nuid": "73c4a0d4-5b92-427a-b396-78ce72df48e5",
     "showTitle": false,
     "tableResultSettingsMap": {},
     "title": ""
    },
    "id": "CiwGjVWK4q6F"
   },
   "source": [
    "## Load OpenAI API Credentials\n"
   ]
  },
  {
   "cell_type": "markdown",
   "metadata": {
    "application/vnd.databricks.v1+cell": {
     "cellMetadata": {},
     "inputWidgets": {},
     "nuid": "94230a3c-6991-44c4-a5d9-f42cada0a1b7",
     "showTitle": false,
     "tableResultSettingsMap": {},
     "title": ""
    }
   },
   "source": [
    "for using in Google colab"
   ]
  },
  {
   "cell_type": "code",
   "execution_count": 0,
   "metadata": {
    "application/vnd.databricks.v1+cell": {
     "cellMetadata": {},
     "inputWidgets": {},
     "nuid": "65ad1083-e4e9-4378-825b-6a737c628029",
     "showTitle": false,
     "tableResultSettingsMap": {},
     "title": ""
    },
    "colab": {
     "base_uri": "https://localhost:8080/"
    },
    "id": "ryheOZuXxa41",
    "outputId": "48baffcf-e35b-4563-9890-a33fb9e2f1b4"
   },
   "outputs": [],
   "source": [
    "from getpass import getpass\n",
    "\n",
    "openai_key = getpass(\"Enter your OpenAI API Key: \")"
   ]
  },
  {
   "cell_type": "markdown",
   "metadata": {
    "application/vnd.databricks.v1+cell": {
     "cellMetadata": {},
     "inputWidgets": {},
     "nuid": "b5719d51-f7e6-40cc-90ac-214264e5ee11",
     "showTitle": false,
     "tableResultSettingsMap": {},
     "title": ""
    },
    "id": "d7CHjZfEAPlp"
   },
   "source": [
    "## Using ChatGPT Directly via API\n",
    "\n",
    "This is if you want to use it without wrappers like LangChain, we will show you how you use ChatGPT via the Open AI library and then how you can do the same for Gemini with Google's Gen AI library"
   ]
  },
  {
   "cell_type": "markdown",
   "metadata": {
    "application/vnd.databricks.v1+cell": {
     "cellMetadata": {},
     "inputWidgets": {},
     "nuid": "34034596-420e-46ff-9c0d-8e87429af0dc",
     "showTitle": false,
     "tableResultSettingsMap": {},
     "title": ""
    },
    "id": "Sg7UuFD6AhiL"
   },
   "source": [
    "## Configure Open AI Key in Environment"
   ]
  },
  {
   "cell_type": "code",
   "execution_count": 0,
   "metadata": {
    "application/vnd.databricks.v1+cell": {
     "cellMetadata": {},
     "inputWidgets": {},
     "nuid": "c0b3ab8c-52e6-4d83-84dd-bc8edb087dcd",
     "showTitle": false,
     "tableResultSettingsMap": {},
     "title": ""
    }
   },
   "outputs": [],
   "source": [
    "import openai"
   ]
  },
  {
   "cell_type": "code",
   "execution_count": 0,
   "metadata": {
    "application/vnd.databricks.v1+cell": {
     "cellMetadata": {},
     "inputWidgets": {},
     "nuid": "9a5d023b-c722-4f10-a5f4-6a07302ad83b",
     "showTitle": false,
     "tableResultSettingsMap": {},
     "title": ""
    },
    "id": "kDe44J0N0NcC"
   },
   "outputs": [],
   "source": [
    "openai.api_key = openai_key"
   ]
  },
  {
   "cell_type": "markdown",
   "metadata": {
    "application/vnd.databricks.v1+cell": {
     "cellMetadata": {},
     "inputWidgets": {},
     "nuid": "a0549607-8098-4e3a-b86f-c30f169ad2d5",
     "showTitle": false,
     "tableResultSettingsMap": {},
     "title": ""
    },
    "id": "AxiB15nq9iJc"
   },
   "source": [
    "## API Pricing\n",
    "\n",
    "Right now the best models to use include GPT-4o-mini considering price and GPT-4o considering performance. GPT-3.5-Turbo is also a good stable alternative. Check out [pricing details here](https://openai.com/api/pricing/)\n",
    "\n",
    "![](https://i.imgur.com/U0C1Xhx.png)"
   ]
  },
  {
   "cell_type": "markdown",
   "metadata": {
    "application/vnd.databricks.v1+cell": {
     "cellMetadata": {},
     "inputWidgets": {},
     "nuid": "43733aaa-32d2-4ec5-be8e-51cfd8961b06",
     "showTitle": false,
     "tableResultSettingsMap": {},
     "title": ""
    },
    "id": "HabRE4PZAz80"
   },
   "source": [
    "## Use ChatGPT for Prompting"
   ]
  },
  {
   "cell_type": "code",
   "execution_count": 0,
   "metadata": {
    "application/vnd.databricks.v1+cell": {
     "cellMetadata": {},
     "inputWidgets": {},
     "nuid": "606bdc48-e79b-4bb8-8211-7fba13d75079",
     "showTitle": false,
     "tableResultSettingsMap": {},
     "title": ""
    },
    "id": "ZWGDT9m2A2GI"
   },
   "outputs": [],
   "source": [
    "def get_completion_chatgpt(prompt, model=\"gpt-4o-mini\"):\n",
    "    messages = [{\"role\": \"user\", \"content\": prompt}]\n",
    "    response = openai.chat.completions.create(\n",
    "        model=model,\n",
    "        messages=messages,\n",
    "        temperature=0, # degree of randomness of the model's output\n",
    "    )\n",
    "    return response.choices[0].message.content"
   ]
  },
  {
   "cell_type": "code",
   "execution_count": 0,
   "metadata": {
    "application/vnd.databricks.v1+cell": {
     "cellMetadata": {},
     "inputWidgets": {},
     "nuid": "b39d4b3b-6737-41e5-86aa-79d27306bece",
     "showTitle": false,
     "tableResultSettingsMap": {},
     "title": ""
    },
    "colab": {
     "base_uri": "https://localhost:8080/"
    },
    "id": "yI_rv0EKBCGP",
    "outputId": "37445f27-f02e-4f4e-b0fb-f8e9ce82c100"
   },
   "outputs": [],
   "source": [
    "prompt = 'Explain Generative AI in 2 bullet points'\n",
    "response = get_completion_chatgpt(prompt=prompt, model=\"gpt-4o-mini\")\n",
    "\n",
    "print(response)"
   ]
  },
  {
   "cell_type": "code",
   "execution_count": 0,
   "metadata": {
    "application/vnd.databricks.v1+cell": {
     "cellMetadata": {},
     "inputWidgets": {},
     "nuid": "6deb7e9f-aebd-4304-843a-8e54969038d4",
     "showTitle": false,
     "tableResultSettingsMap": {},
     "title": ""
    },
    "colab": {
     "base_uri": "https://localhost:8080/"
    },
    "id": "ryaxUy_Q6UCA",
    "outputId": "0d598b86-a9a8-4e20-a4c4-6ef1729550f7"
   },
   "outputs": [],
   "source": [
    "prompt = 'Explain Generative AI in 2 bullet points'\n",
    "response = get_completion_chatgpt(prompt=prompt, model=\"gpt-3.5-turbo\")\n",
    "\n",
    "print(response)"
   ]
  },
  {
   "cell_type": "markdown",
   "metadata": {
    "application/vnd.databricks.v1+cell": {
     "cellMetadata": {},
     "inputWidgets": {},
     "nuid": "ea9d096c-9c05-4916-bd65-adcf6896f5e8",
     "showTitle": false,
     "tableResultSettingsMap": {},
     "title": ""
    },
    "id": "DfBA2hsIBMGN"
   },
   "source": [
    "## Get Google Gemini API Key\n",
    "\n",
    "Here you need to get API keys from the following websites based on your LLM preference:\n",
    "\n",
    "- - Gemini API Key: Go [here](https://aistudio.google.com/app/u/0/apikey) and create a key, you just need a gmail account to sign in. Till now (Oct-2024 so far), Gemini keys do not need billing as mentioned [here](https://ai.google.dev/pricing)\n",
    "\n",
    "\n",
    "1. Go to [Get API Key -> Create API Key](https://aistudio.google.com/app/u/0/apikey) after creating your account and you should be able to generate your API Key\n",
    "\n",
    "![](https://i.imgur.com/UYVkKmK.png)\n",
    "\n",
    "2. Remember to __Save__ your key somewhere safe. So copy and save it in a local secure file to use it later on.\n",
    "\n",
    "![](https://i.imgur.com/9JZyw2t.png)"
   ]
  },
  {
   "cell_type": "markdown",
   "metadata": {
    "application/vnd.databricks.v1+cell": {
     "cellMetadata": {},
     "inputWidgets": {},
     "nuid": "e70ab211-d0ba-4037-9b37-a4246b12277c",
     "showTitle": false,
     "tableResultSettingsMap": {},
     "title": ""
    },
    "id": "LS7koM2emZ_M"
   },
   "source": [
    "## Load Gemini API credentials\n",
    "\n",
    "Run this section only if you are using Google Gemini"
   ]
  },
  {
   "cell_type": "code",
   "execution_count": 0,
   "metadata": {
    "application/vnd.databricks.v1+cell": {
     "cellMetadata": {},
     "inputWidgets": {},
     "nuid": "27e5e461-2c7e-457d-82b3-1b165e3a9319",
     "showTitle": false,
     "tableResultSettingsMap": {},
     "title": ""
    },
    "colab": {
     "base_uri": "https://localhost:8080/"
    },
    "id": "YgpTrZ6rVd4I",
    "outputId": "08d3fbfb-6581-456d-b4d8-eb5a91d71f0e"
   },
   "outputs": [],
   "source": [
    "from getpass import getpass\n",
    "\n",
    "gemini_key = getpass(\"Enter your Gemini API Key: \")"
   ]
  },
  {
   "cell_type": "markdown",
   "metadata": {
    "application/vnd.databricks.v1+cell": {
     "cellMetadata": {},
     "inputWidgets": {},
     "nuid": "47a9bff0-3f0c-4600-ab4c-23bfef7fb75e",
     "showTitle": false,
     "tableResultSettingsMap": {},
     "title": ""
    },
    "id": "BUuyA3uGAmRf"
   },
   "source": [
    "## Configure Gemini Key in Environment"
   ]
  },
  {
   "cell_type": "code",
   "execution_count": 0,
   "metadata": {
    "application/vnd.databricks.v1+cell": {
     "cellMetadata": {},
     "inputWidgets": {},
     "nuid": "e74a40b9-4cf9-4a2d-abb7-53f1156b6720",
     "showTitle": false,
     "tableResultSettingsMap": {},
     "title": ""
    }
   },
   "outputs": [],
   "source": [
    "import google.generativeai as genai"
   ]
  },
  {
   "cell_type": "code",
   "execution_count": 0,
   "metadata": {
    "application/vnd.databricks.v1+cell": {
     "cellMetadata": {},
     "inputWidgets": {},
     "nuid": "587343a2-8f19-4163-bcf2-7af8c2a6579b",
     "showTitle": false,
     "tableResultSettingsMap": {},
     "title": ""
    },
    "id": "8e5UfkRlAoo5"
   },
   "outputs": [],
   "source": [
    "genai.configure(api_key=gemini_key)"
   ]
  },
  {
   "cell_type": "markdown",
   "metadata": {
    "application/vnd.databricks.v1+cell": {
     "cellMetadata": {},
     "inputWidgets": {},
     "nuid": "1b3a87c5-685d-434c-bef0-5abcef8bba02",
     "showTitle": false,
     "tableResultSettingsMap": {},
     "title": ""
    },
    "id": "2rMFzIsCL8nI"
   },
   "source": [
    "## API Pricing\n",
    "\n",
    "Right now the best models to use include Gemini 1.5 Flash and Gemini 1.5 Pro. Check out [pricing details here](https://ai.google.dev/pricing)\n",
    "\n",
    "![](https://i.imgur.com/8hR2Ti8.png)"
   ]
  },
  {
   "cell_type": "markdown",
   "metadata": {
    "application/vnd.databricks.v1+cell": {
     "cellMetadata": {},
     "inputWidgets": {},
     "nuid": "9465d83b-c9d5-4155-9fe4-1856b55c47d6",
     "showTitle": false,
     "tableResultSettingsMap": {},
     "title": ""
    },
    "id": "gWs79BIjBQCv"
   },
   "source": [
    "## Use Gemini for Prompting"
   ]
  },
  {
   "cell_type": "code",
   "execution_count": 0,
   "metadata": {
    "application/vnd.databricks.v1+cell": {
     "cellMetadata": {},
     "inputWidgets": {},
     "nuid": "1fcf305c-2ac3-498b-821c-a00bb1d86a05",
     "showTitle": false,
     "tableResultSettingsMap": {},
     "title": ""
    },
    "colab": {
     "base_uri": "https://localhost:8080/",
     "height": 416
    },
    "id": "yRQaYbH1BWbU",
    "outputId": "1314c002-b44b-4c73-f49a-ac85b03228ca"
   },
   "outputs": [],
   "source": [
    "# use model names only from this list\n",
    "# late 2024, latest model is gemini-1.5-flash-latest\n",
    "for m in genai.list_models():\n",
    "  if 'generateContent' in m.supported_generation_methods:\n",
    "    print(m.name)"
   ]
  },
  {
   "cell_type": "code",
   "execution_count": 0,
   "metadata": {
    "application/vnd.databricks.v1+cell": {
     "cellMetadata": {},
     "inputWidgets": {},
     "nuid": "799b0c2e-a83b-4c89-b9dc-22d8fe002def",
     "showTitle": false,
     "tableResultSettingsMap": {},
     "title": ""
    },
    "id": "5K-Izx12X-q_"
   },
   "outputs": [],
   "source": [
    "def get_completion_gemini(prompt, model=\"gemini-1.5-flash-latest\"):\n",
    "    model = genai.GenerativeModel(model)\n",
    "    response = model.generate_content(prompt)\n",
    "    return response.text"
   ]
  },
  {
   "cell_type": "code",
   "execution_count": 0,
   "metadata": {
    "application/vnd.databricks.v1+cell": {
     "cellMetadata": {},
     "inputWidgets": {},
     "nuid": "e92a1475-2044-4b6b-9713-5d933e2eb898",
     "showTitle": false,
     "tableResultSettingsMap": {},
     "title": ""
    },
    "colab": {
     "base_uri": "https://localhost:8080/",
     "height": 89
    },
    "id": "rkKu-sppYN3z",
    "outputId": "443f89f9-f7b3-4033-8353-65d23a671f46"
   },
   "outputs": [],
   "source": [
    "prompt = 'Explain Generative AI in 2 bullet points'\n",
    "response = get_completion_gemini(prompt=prompt, model=\"gemini-1.5-flash-latest\")\n",
    "\n",
    "print(response)"
   ]
  },
  {
   "cell_type": "code",
   "execution_count": 0,
   "metadata": {
    "application/vnd.databricks.v1+cell": {
     "cellMetadata": {},
     "inputWidgets": {},
     "nuid": "d6a6610a-246b-4d3c-a2a6-31d2269855bf",
     "showTitle": false,
     "tableResultSettingsMap": {},
     "title": ""
    },
    "colab": {
     "base_uri": "https://localhost:8080/",
     "height": 89
    },
    "id": "SkLJMVdqYUqI",
    "outputId": "bb7b8a0b-8c70-4d3b-a824-51c14dce1601"
   },
   "outputs": [],
   "source": [
    "prompt = 'Explain Generative AI in 2 bullet points'\n",
    "response = get_completion_gemini(prompt=prompt, model=\"gemini-1.5-pro-latest\")\n",
    "\n",
    "print(response)"
   ]
  }
 ],
 "metadata": {
  "application/vnd.databricks.v1+notebook": {
   "computePreferences": null,
   "dashboards": [],
   "environmentMetadata": null,
   "language": "python",
   "notebookMetadata": {},
   "notebookName": "Using_Commercial_LLMs_Natively",
   "widgets": {}
  },
  "colab": {
   "provenance": []
  },
  "kernelspec": {
   "display_name": "Python 3 (ipykernel)",
   "language": "python",
   "name": "python3"
  },
  "language_info": {
   "name": "python"
  }
 },
 "nbformat": 4,
 "nbformat_minor": 0
}
