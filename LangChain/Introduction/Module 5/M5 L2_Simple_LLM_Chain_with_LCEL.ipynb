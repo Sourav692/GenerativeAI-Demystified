{
 "cells": [
  {
   "cell_type": "markdown",
   "metadata": {
    "application/vnd.databricks.v1+cell": {
     "cellMetadata": {},
     "inputWidgets": {},
     "nuid": "309c056b-2249-40dd-beae-4ed9a20808d0",
     "showTitle": false,
     "tableResultSettingsMap": {},
     "title": ""
    },
    "id": "TkZ-tYIsqsAP"
   },
   "source": [
    "# Exploring LLM Chains with LCEL"
   ]
  },
  {
   "cell_type": "markdown",
   "metadata": {
    "application/vnd.databricks.v1+cell": {
     "cellMetadata": {},
     "inputWidgets": {},
     "nuid": "b78f6257-7cc6-4c36-b02d-78f8b1aff9bb",
     "showTitle": false,
     "tableResultSettingsMap": {},
     "title": ""
    },
    "id": "L1KvMtf54l0d"
   },
   "source": [
    "## Install OpenAI, and LangChain dependencies"
   ]
  },
  {
   "cell_type": "code",
   "execution_count": null,
   "metadata": {
    "application/vnd.databricks.v1+cell": {
     "cellMetadata": {
      "byteLimit": 2048000,
      "rowLimit": 10000
     },
     "inputWidgets": {},
     "nuid": "7ed15ef0-78d3-457b-b7ca-f5e16a4d8381",
     "showTitle": false,
     "tableResultSettingsMap": {},
     "title": ""
    }
   },
   "outputs": [],
   "source": [
    "!pip install langchain==0.3.11\n",
    "!pip install langchain-openai==0.2.12\n",
    "!pip install langchain-community==0.3.11"
   ]
  },
  {
   "cell_type": "code",
   "execution_count": null,
   "metadata": {
    "application/vnd.databricks.v1+cell": {
     "cellMetadata": {
      "byteLimit": 2048000,
      "rowLimit": 10000
     },
     "inputWidgets": {},
     "nuid": "eda546a7-3c2b-48f5-ad81-61b2360e53b1",
     "showTitle": false,
     "tableResultSettingsMap": {},
     "title": ""
    }
   },
   "outputs": [],
   "source": [
    "# for drawing text graphs\n",
    "!pip install grandalf"
   ]
  },
  {
   "cell_type": "markdown",
   "metadata": {
    "application/vnd.databricks.v1+cell": {
     "cellMetadata": {},
     "inputWidgets": {},
     "nuid": "ae64e126-44ef-43b2-bff6-4d13e8f6d584",
     "showTitle": false,
     "tableResultSettingsMap": {},
     "title": ""
    },
    "id": "H9c37cLnSrbg"
   },
   "source": [
    "## Enter Open AI API Key"
   ]
  },
  {
   "cell_type": "code",
   "execution_count": null,
   "metadata": {
    "application/vnd.databricks.v1+cell": {
     "cellMetadata": {},
     "inputWidgets": {},
     "nuid": "aad48988-2b8a-4a92-ba5b-f16f94a74e97",
     "showTitle": false,
     "tableResultSettingsMap": {},
     "title": ""
    },
    "id": "cv3JzCEx_PAd"
   },
   "outputs": [],
   "source": [
    "from getpass import getpass\n",
    "\n",
    "OPENAI_KEY = getpass('Enter Open AI API Key: ')"
   ]
  },
  {
   "cell_type": "markdown",
   "metadata": {
    "application/vnd.databricks.v1+cell": {
     "cellMetadata": {},
     "inputWidgets": {},
     "nuid": "e1c5aa89-4fb4-44ef-9d53-6dec8c35dc2a",
     "showTitle": false,
     "tableResultSettingsMap": {},
     "title": ""
    },
    "id": "1T0s0um5Svfa"
   },
   "source": [
    "## Setup Environment Variables"
   ]
  },
  {
   "cell_type": "code",
   "execution_count": null,
   "metadata": {
    "application/vnd.databricks.v1+cell": {
     "cellMetadata": {},
     "inputWidgets": {},
     "nuid": "74ce9cce-41ab-4602-944e-cfdf232b2c05",
     "showTitle": false,
     "tableResultSettingsMap": {},
     "title": ""
    },
    "id": "x1YSuHNF_lbh"
   },
   "outputs": [],
   "source": [
    "import os\n",
    "\n",
    "os.environ['OPENAI_API_KEY'] = OPENAI_KEY"
   ]
  },
  {
   "cell_type": "markdown",
   "metadata": {
    "application/vnd.databricks.v1+cell": {
     "cellMetadata": {},
     "inputWidgets": {},
     "nuid": "9cabad2a-3608-4693-bdc4-21d88067020c",
     "showTitle": false,
     "tableResultSettingsMap": {},
     "title": ""
    },
    "id": "2oeckxFBcc0E"
   },
   "source": [
    "## Load Connection to LLM\n",
    "\n",
    "Here we create a connection to ChatGPT to use later in our chains"
   ]
  },
  {
   "cell_type": "code",
   "execution_count": null,
   "metadata": {
    "application/vnd.databricks.v1+cell": {
     "cellMetadata": {},
     "inputWidgets": {},
     "nuid": "0fed9992-b67f-45dd-ac7c-01d353b00935",
     "showTitle": false,
     "tableResultSettingsMap": {},
     "title": ""
    },
    "id": "vHa9LMOfcOCV"
   },
   "outputs": [],
   "source": [
    "from langchain_openai import ChatOpenAI\n",
    "\n",
    "chatgpt = ChatOpenAI(model_name='gpt-4o-mini', temperature=0)"
   ]
  },
  {
   "cell_type": "markdown",
   "metadata": {
    "application/vnd.databricks.v1+cell": {
     "cellMetadata": {},
     "inputWidgets": {},
     "nuid": "1b13ee9a-0376-489d-bc19-0cceb899c603",
     "showTitle": false,
     "tableResultSettingsMap": {},
     "title": ""
    },
    "id": "FD3EKYm8M8gg"
   },
   "source": [
    "## Working with LangChain Chains\n",
    "\n",
    "Using an LLM in isolation is fine for simple applications, but more complex applications require chaining LLMs - either with each other or with other components. Also running on multiple data points can be done easily with chains.\n",
    "\n",
    "Chain's are the legacy interface for \"chained\" applications. We define a Chain very generically as a sequence of calls to components, which can include other chains.\n",
    "\n",
    "Here we will be using LCEL chains exclusively"
   ]
  },
  {
   "cell_type": "markdown",
   "metadata": {
    "application/vnd.databricks.v1+cell": {
     "cellMetadata": {},
     "inputWidgets": {},
     "nuid": "b4ed0657-8b0f-4425-8dce-07c3f9a85917",
     "showTitle": false,
     "tableResultSettingsMap": {},
     "title": ""
    },
    "id": "ng-9uxLActTT"
   },
   "source": [
    "### LLM Chain with LCEL\n",
    "\n",
    "LangChain Expression Language (LCEL) connects prompts, models, parsers and retrieval components using a `|` pipe operator.\n",
    "\n",
    "Any runnables can be \"chained\" together into sequences. The output of the previous runnable's `.invoke()` call is passed as input to the next runnable. This can be done using the pipe operator `(|)`, or the more explicit `.pipe()` method, which does the same thing.\n",
    "\n",
    "The resulting `RunnableSequence` is itself a runnable, which means it can be invoked, streamed, or further chained just like any other runnable."
   ]
  },
  {
   "cell_type": "code",
   "execution_count": null,
   "metadata": {
    "application/vnd.databricks.v1+cell": {
     "cellMetadata": {},
     "inputWidgets": {},
     "nuid": "9abdc5d3-9921-4041-ba30-c3f2a915e88f",
     "showTitle": false,
     "tableResultSettingsMap": {},
     "title": ""
    },
    "id": "pfB6RuGLWjDT"
   },
   "outputs": [],
   "source": [
    "from langchain_core.prompts import ChatPromptTemplate\n",
    "\n",
    "prompt_txt = \"\"\"Explain to me about {topic} in 3 bullet points\"\"\"\n",
    "prompt = ChatPromptTemplate.from_template(prompt_txt)\n",
    "\n",
    "# you can also write this as llm_chain = prompt | chatgpt\n",
    "\n",
    "llm_chain = (\n",
    "    prompt\n",
    "      |\n",
    "    chatgpt\n",
    ")"
   ]
  },
  {
   "cell_type": "code",
   "execution_count": null,
   "metadata": {},
   "outputs": [],
   "source": [
    "type(llm_chain)"
   ]
  },
  {
   "cell_type": "code",
   "execution_count": null,
   "metadata": {},
   "outputs": [],
   "source": [
    "llm_chain"
   ]
  },
  {
   "cell_type": "code",
   "execution_count": 0,
   "metadata": {
    "application/vnd.databricks.v1+cell": {
     "cellMetadata": {},
     "inputWidgets": {},
     "nuid": "cbe559d7-3102-4163-a038-f6175da97d5f",
     "showTitle": false,
     "tableResultSettingsMap": {},
     "title": ""
    },
    "id": "EXoy-gLKW9qN"
   },
   "outputs": [],
   "source": [
    "from IPython.display import Image, display\n",
    "\n",
    "display(Image(llm_chain.get_graph().draw_mermaid_png()))"
   ]
  },
  {
   "cell_type": "code",
   "execution_count": 0,
   "metadata": {
    "application/vnd.databricks.v1+cell": {
     "cellMetadata": {},
     "inputWidgets": {},
     "nuid": "feee0062-dabd-41a3-857d-2b214ae2cc72",
     "showTitle": false,
     "tableResultSettingsMap": {},
     "title": ""
    },
    "id": "dMwrxRbHYynr"
   },
   "outputs": [],
   "source": [
    "print(llm_chain.get_graph().draw_ascii())"
   ]
  },
  {
   "cell_type": "code",
   "execution_count": null,
   "metadata": {
    "application/vnd.databricks.v1+cell": {
     "cellMetadata": {},
     "inputWidgets": {},
     "nuid": "c3dde683-f96d-4768-853e-e279bd57d212",
     "showTitle": false,
     "tableResultSettingsMap": {},
     "title": ""
    },
    "id": "U7BJKifvZNYO"
   },
   "outputs": [],
   "source": [
    "response = llm_chain.invoke({'topic': 'Generative AI'})\n",
    "response"
   ]
  },
  {
   "cell_type": "code",
   "execution_count": null,
   "metadata": {
    "application/vnd.databricks.v1+cell": {
     "cellMetadata": {},
     "inputWidgets": {},
     "nuid": "704270be-4434-4a6d-9ce5-b055a53c899f",
     "showTitle": false,
     "tableResultSettingsMap": {},
     "title": ""
    },
    "id": "-_eErT0PZXWk"
   },
   "outputs": [],
   "source": [
    "print(response.content)"
   ]
  },
  {
   "cell_type": "markdown",
   "metadata": {
    "application/vnd.databricks.v1+cell": {
     "cellMetadata": {},
     "inputWidgets": {},
     "nuid": "439ddaad-988f-42e2-b106-7f4d2deb3da3",
     "showTitle": false,
     "tableResultSettingsMap": {},
     "title": ""
    },
    "id": "RmnzxWuhZgwv"
   },
   "source": [
    "Adding an output parser now to just get the response as a string"
   ]
  },
  {
   "cell_type": "code",
   "execution_count": null,
   "metadata": {
    "application/vnd.databricks.v1+cell": {
     "cellMetadata": {},
     "inputWidgets": {},
     "nuid": "31d06b54-b37c-4acb-9478-aa481083d3a3",
     "showTitle": false,
     "tableResultSettingsMap": {},
     "title": ""
    },
    "id": "vqXIww5vZctH"
   },
   "outputs": [],
   "source": [
    "from langchain_core.output_parsers import StrOutputParser\n",
    "\n",
    "# chain with an output parser\n",
    "llm_chain = (\n",
    "    prompt\n",
    "      |\n",
    "    chatgpt\n",
    "      |\n",
    "    StrOutputParser()\n",
    ")"
   ]
  },
  {
   "cell_type": "code",
   "execution_count": null,
   "metadata": {},
   "outputs": [],
   "source": [
    "llm_chain"
   ]
  },
  {
   "cell_type": "code",
   "execution_count": 0,
   "metadata": {
    "application/vnd.databricks.v1+cell": {
     "cellMetadata": {},
     "inputWidgets": {},
     "nuid": "64020ab1-1df9-417b-89b7-c2184b9bdb2f",
     "showTitle": false,
     "tableResultSettingsMap": {},
     "title": ""
    },
    "id": "HMO_Vz2KZ-M8"
   },
   "outputs": [],
   "source": [
    "display(Image(llm_chain.get_graph().draw_mermaid_png()))"
   ]
  },
  {
   "cell_type": "code",
   "execution_count": 0,
   "metadata": {
    "application/vnd.databricks.v1+cell": {
     "cellMetadata": {},
     "inputWidgets": {},
     "nuid": "46262779-1015-4e98-b842-6823c66ad594",
     "showTitle": false,
     "tableResultSettingsMap": {},
     "title": ""
    },
    "id": "uh72M_cKa6Lk"
   },
   "outputs": [],
   "source": [
    "response = llm_chain.invoke({'topic': 'Generative AI'})\n",
    "print(response)"
   ]
  },
  {
   "cell_type": "code",
   "execution_count": null,
   "metadata": {
    "application/vnd.databricks.v1+cell": {
     "cellMetadata": {},
     "inputWidgets": {},
     "nuid": "2b011f2d-515a-404e-92ac-b2589af9f1fa",
     "showTitle": false,
     "tableResultSettingsMap": {},
     "title": ""
    },
    "id": "LPSWayj_cP-i"
   },
   "outputs": [],
   "source": [
    "reviews = [\n",
    "    f\"\"\"\n",
    "    Purchased this adorable koala plush toy for my nephew's birthday,\n",
    "    and he's absolutely smitten with it, carrying it around everywhere he goes.\n",
    "    The plush is incredibly soft, and the koala's face has an endearing expression.\n",
    "    However, I did find it a tad on the smaller side given its price point.\n",
    "    I believe there may be larger alternatives available at a similar price.\n",
    "    To my delight, it arrived a day earlier than anticipated,\n",
    "    allowing me to enjoy it briefly before gifting it to him.\n",
    "    \"\"\",\n",
    "    f\"\"\"\n",
    "    Required a stylish lamp for my office space, and this particular one\n",
    "    came with added storage at a reasonable price.\n",
    "    The delivery was surprisingly quick, arriving within just two days.\n",
    "    However, the pull string for the lamp suffered damage during transit.\n",
    "    To my relief, the company promptly dispatched a replacement,\n",
    "    which arrived within a few days. Assembly was a breeze.\n",
    "    Then, I encountered an issue with a missing component,\n",
    "    but their support team responded swiftly and provided the missing part.\n",
    "    It appears to be a commendable company that genuinely values its\n",
    "    customers and the quality of its products.\n",
    "    \"\"\"\n",
    "    ]"
   ]
  },
  {
   "cell_type": "code",
   "execution_count": null,
   "metadata": {
    "application/vnd.databricks.v1+cell": {
     "cellMetadata": {},
     "inputWidgets": {},
     "nuid": "cca0d4bd-a263-4d73-9025-833d1905a07e",
     "showTitle": false,
     "tableResultSettingsMap": {},
     "title": ""
    },
    "id": "90dSQ0yciLQa"
   },
   "outputs": [],
   "source": [
    "from langchain_core.prompts import ChatPromptTemplate\n",
    "\n",
    "prompt = \"\"\"\n",
    "            Act as a product review analyst.\n",
    "            Your task is to generate a short summary of a product\n",
    "            review from an ecommerce site.\n",
    "\n",
    "            Generate a summary of the review (max 2 lines)\n",
    "            Also show both the positives and negatives from the review (max 2 bullets)\n",
    "\n",
    "            ```{review}```\n",
    "\"\"\"\n",
    "\n",
    "prompt_template = ChatPromptTemplate.from_template(prompt)\n",
    "llm_chain = (\n",
    "    prompt_template\n",
    "      |\n",
    "    chatgpt\n",
    "      |\n",
    "    StrOutputParser()\n",
    ")"
   ]
  },
  {
   "cell_type": "code",
   "execution_count": null,
   "metadata": {},
   "outputs": [],
   "source": [
    "reviews[0]"
   ]
  },
  {
   "cell_type": "code",
   "execution_count": null,
   "metadata": {
    "application/vnd.databricks.v1+cell": {
     "cellMetadata": {},
     "inputWidgets": {},
     "nuid": "c534b6da-7dfc-4805-9738-1954b5d2cd3d",
     "showTitle": false,
     "tableResultSettingsMap": {},
     "title": ""
    },
    "id": "0SjsgsUdiibW"
   },
   "outputs": [],
   "source": [
    "result = llm_chain.invoke({'review': reviews[0]})"
   ]
  },
  {
   "cell_type": "code",
   "execution_count": null,
   "metadata": {
    "application/vnd.databricks.v1+cell": {
     "cellMetadata": {},
     "inputWidgets": {},
     "nuid": "dd0ddfc1-2e26-4090-80f3-4d7337d35bab",
     "showTitle": false,
     "tableResultSettingsMap": {},
     "title": ""
    },
    "id": "lL0EKbgXivEj"
   },
   "outputs": [],
   "source": [
    "result"
   ]
  },
  {
   "cell_type": "code",
   "execution_count": null,
   "metadata": {
    "application/vnd.databricks.v1+cell": {
     "cellMetadata": {},
     "inputWidgets": {},
     "nuid": "9bf7dff9-924c-4a69-91b4-9de704c551a2",
     "showTitle": false,
     "tableResultSettingsMap": {},
     "title": ""
    },
    "id": "2WsezaGqi00W"
   },
   "outputs": [],
   "source": [
    "print(result)"
   ]
  },
  {
   "cell_type": "code",
   "execution_count": null,
   "metadata": {
    "application/vnd.databricks.v1+cell": {
     "cellMetadata": {},
     "inputWidgets": {},
     "nuid": "be5da574-d27c-46bf-a3a0-e6860206d339",
     "showTitle": false,
     "tableResultSettingsMap": {},
     "title": ""
    },
    "id": "KNLieaWvi2XQ"
   },
   "outputs": [],
   "source": [
    "formatted_reviews = [{'review': review}\n",
    "                        for review in reviews]\n",
    "\n",
    "results = llm_chain.map().invoke(formatted_reviews)\n",
    "len(results)"
   ]
  },
  {
   "cell_type": "code",
   "execution_count": null,
   "metadata": {
    "application/vnd.databricks.v1+cell": {
     "cellMetadata": {},
     "inputWidgets": {},
     "nuid": "c2a61152-779b-49a1-b3a1-67b7e27d1f06",
     "showTitle": false,
     "tableResultSettingsMap": {},
     "title": ""
    },
    "id": "AtaDS_IXjhRw"
   },
   "outputs": [],
   "source": [
    "for result in results:\n",
    "    print(result)\n",
    "    print()"
   ]
  },
  {
   "cell_type": "code",
   "execution_count": null,
   "metadata": {},
   "outputs": [],
   "source": []
  }
 ],
 "metadata": {
  "application/vnd.databricks.v1+notebook": {
   "computePreferences": null,
   "dashboards": [],
   "environmentMetadata": null,
   "language": "python",
   "notebookMetadata": {
    "pythonIndentUnit": 2
   },
   "notebookName": "M5 L2_Simple_LLM_Chain_with_LCEL",
   "widgets": {}
  },
  "colab": {
   "provenance": []
  },
  "kernelspec": {
   "display_name": ".venv",
   "language": "python",
   "name": "python3"
  },
  "language_info": {
   "codemirror_mode": {
    "name": "ipython",
    "version": 3
   },
   "file_extension": ".py",
   "mimetype": "text/x-python",
   "name": "python",
   "nbconvert_exporter": "python",
   "pygments_lexer": "ipython3",
   "version": "3.9.5"
  }
 },
 "nbformat": 4,
 "nbformat_minor": 0
}
