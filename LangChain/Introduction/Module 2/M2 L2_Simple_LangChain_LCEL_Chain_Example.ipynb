{
 "cells": [
  {
   "cell_type": "markdown",
   "metadata": {
    "application/vnd.databricks.v1+cell": {
     "cellMetadata": {},
     "inputWidgets": {},
     "nuid": "a00efe39-a775-4ba3-8388-62697fe016aa",
     "showTitle": false,
     "tableResultSettingsMap": {},
     "title": ""
    },
    "id": "7UD0sNgttG1M"
   },
   "source": [
    "# Simple LangChain LCEL Chain Example\n",
    "\n",
    "This notebook shows how to create a simple LLM Chain using LangChain's new LangChain Expression Language (LCEL) syntax"
   ]
  },
  {
   "cell_type": "markdown",
   "metadata": {
    "application/vnd.databricks.v1+cell": {
     "cellMetadata": {},
     "inputWidgets": {},
     "nuid": "3d3f2056-3e82-437b-8dac-ab5a7a4855df",
     "showTitle": false,
     "tableResultSettingsMap": {},
     "title": ""
    },
    "id": "19XTN_hMiBZY"
   },
   "source": [
    "## Install Libraries"
   ]
  },
  {
   "cell_type": "code",
   "execution_count": 0,
   "metadata": {
    "application/vnd.databricks.v1+cell": {
     "cellMetadata": {},
     "inputWidgets": {},
     "nuid": "c7784e8a-bfa7-4e61-9b2f-822e3f2cb310",
     "showTitle": false,
     "tableResultSettingsMap": {},
     "title": ""
    }
   },
   "outputs": [
    {
     "output_type": "stream",
     "name": "stdout",
     "output_type": "stream",
     "text": [
      "Requirement already satisfied: langchain==0.3.11 in d:\\2. my workspace and notes\\1. demystify folders\\generativeai-demystified\\.venv\\lib\\site-packages (0.3.11)\nRequirement already satisfied: PyYAML>=5.3 in d:\\2. my workspace and notes\\1. demystify folders\\generativeai-demystified\\.venv\\lib\\site-packages (from langchain==0.3.11) (6.0.2)\nRequirement already satisfied: SQLAlchemy<3,>=1.4 in d:\\2. my workspace and notes\\1. demystify folders\\generativeai-demystified\\.venv\\lib\\site-packages (from langchain==0.3.11) (2.0.36)\nRequirement already satisfied: aiohttp<4.0.0,>=3.8.3 in d:\\2. my workspace and notes\\1. demystify folders\\generativeai-demystified\\.venv\\lib\\site-packages (from langchain==0.3.11) (3.11.11)\nRequirement already satisfied: async-timeout<5.0.0,>=4.0.0 in d:\\2. my workspace and notes\\1. demystify folders\\generativeai-demystified\\.venv\\lib\\site-packages (from langchain==0.3.11) (4.0.3)\nRequirement already satisfied: langchain-core<0.4.0,>=0.3.24 in d:\\2. my workspace and notes\\1. demystify folders\\generativeai-demystified\\.venv\\lib\\site-packages (from langchain==0.3.11) (0.3.28)\nRequirement already satisfied: langchain-text-splitters<0.4.0,>=0.3.0 in d:\\2. my workspace and notes\\1. demystify folders\\generativeai-demystified\\.venv\\lib\\site-packages (from langchain==0.3.11) (0.3.4)\nRequirement already satisfied: langsmith<0.3,>=0.1.17 in d:\\2. my workspace and notes\\1. demystify folders\\generativeai-demystified\\.venv\\lib\\site-packages (from langchain==0.3.11) (0.2.7)\nRequirement already satisfied: numpy<2,>=1.22.4 in d:\\2. my workspace and notes\\1. demystify folders\\generativeai-demystified\\.venv\\lib\\site-packages (from langchain==0.3.11) (1.26.4)\nRequirement already satisfied: pydantic<3.0.0,>=2.7.4 in d:\\2. my workspace and notes\\1. demystify folders\\generativeai-demystified\\.venv\\lib\\site-packages (from langchain==0.3.11) (2.10.4)\nRequirement already satisfied: requests<3,>=2 in d:\\2. my workspace and notes\\1. demystify folders\\generativeai-demystified\\.venv\\lib\\site-packages (from langchain==0.3.11) (2.32.3)\nRequirement already satisfied: tenacity!=8.4.0,<10,>=8.1.0 in d:\\2. my workspace and notes\\1. demystify folders\\generativeai-demystified\\.venv\\lib\\site-packages (from langchain==0.3.11) (9.0.0)\nRequirement already satisfied: aiohappyeyeballs>=2.3.0 in d:\\2. my workspace and notes\\1. demystify folders\\generativeai-demystified\\.venv\\lib\\site-packages (from aiohttp<4.0.0,>=3.8.3->langchain==0.3.11) (2.4.4)\nRequirement already satisfied: aiosignal>=1.1.2 in d:\\2. my workspace and notes\\1. demystify folders\\generativeai-demystified\\.venv\\lib\\site-packages (from aiohttp<4.0.0,>=3.8.3->langchain==0.3.11) (1.3.2)\nRequirement already satisfied: attrs>=17.3.0 in d:\\2. my workspace and notes\\1. demystify folders\\generativeai-demystified\\.venv\\lib\\site-packages (from aiohttp<4.0.0,>=3.8.3->langchain==0.3.11) (24.3.0)\nRequirement already satisfied: frozenlist>=1.1.1 in d:\\2. my workspace and notes\\1. demystify folders\\generativeai-demystified\\.venv\\lib\\site-packages (from aiohttp<4.0.0,>=3.8.3->langchain==0.3.11) (1.5.0)\nRequirement already satisfied: multidict<7.0,>=4.5 in d:\\2. my workspace and notes\\1. demystify folders\\generativeai-demystified\\.venv\\lib\\site-packages (from aiohttp<4.0.0,>=3.8.3->langchain==0.3.11) (6.1.0)\nRequirement already satisfied: propcache>=0.2.0 in d:\\2. my workspace and notes\\1. demystify folders\\generativeai-demystified\\.venv\\lib\\site-packages (from aiohttp<4.0.0,>=3.8.3->langchain==0.3.11) (0.2.1)\nRequirement already satisfied: yarl<2.0,>=1.17.0 in d:\\2. my workspace and notes\\1. demystify folders\\generativeai-demystified\\.venv\\lib\\site-packages (from aiohttp<4.0.0,>=3.8.3->langchain==0.3.11) (1.18.3)\nRequirement already satisfied: jsonpatch<2.0,>=1.33 in d:\\2. my workspace and notes\\1. demystify folders\\generativeai-demystified\\.venv\\lib\\site-packages (from langchain-core<0.4.0,>=0.3.24->langchain==0.3.11) (1.33)\nRequirement already satisfied: packaging<25,>=23.2 in d:\\2. my workspace and notes\\1. demystify folders\\generativeai-demystified\\.venv\\lib\\site-packages (from langchain-core<0.4.0,>=0.3.24->langchain==0.3.11) (24.2)\nRequirement already satisfied: typing-extensions>=4.7 in d:\\2. my workspace and notes\\1. demystify folders\\generativeai-demystified\\.venv\\lib\\site-packages (from langchain-core<0.4.0,>=0.3.24->langchain==0.3.11) (4.12.2)\nRequirement already satisfied: httpx<1,>=0.23.0 in d:\\2. my workspace and notes\\1. demystify folders\\generativeai-demystified\\.venv\\lib\\site-packages (from langsmith<0.3,>=0.1.17->langchain==0.3.11) (0.28.1)\nRequirement already satisfied: orjson<4.0.0,>=3.9.14 in d:\\2. my workspace and notes\\1. demystify folders\\generativeai-demystified\\.venv\\lib\\site-packages (from langsmith<0.3,>=0.1.17->langchain==0.3.11) (3.10.13)\nRequirement already satisfied: requests-toolbelt<2.0.0,>=1.0.0 in d:\\2. my workspace and notes\\1. demystify folders\\generativeai-demystified\\.venv\\lib\\site-packages (from langsmith<0.3,>=0.1.17->langchain==0.3.11) (1.0.0)\nRequirement already satisfied: annotated-types>=0.6.0 in d:\\2. my workspace and notes\\1. demystify folders\\generativeai-demystified\\.venv\\lib\\site-packages (from pydantic<3.0.0,>=2.7.4->langchain==0.3.11) (0.7.0)\nRequirement already satisfied: pydantic-core==2.27.2 in d:\\2. my workspace and notes\\1. demystify folders\\generativeai-demystified\\.venv\\lib\\site-packages (from pydantic<3.0.0,>=2.7.4->langchain==0.3.11) (2.27.2)\nRequirement already satisfied: charset-normalizer<4,>=2 in d:\\2. my workspace and notes\\1. demystify folders\\generativeai-demystified\\.venv\\lib\\site-packages (from requests<3,>=2->langchain==0.3.11) (3.4.1)\nRequirement already satisfied: idna<4,>=2.5 in d:\\2. my workspace and notes\\1. demystify folders\\generativeai-demystified\\.venv\\lib\\site-packages (from requests<3,>=2->langchain==0.3.11) (3.10)\nRequirement already satisfied: urllib3<3,>=1.21.1 in d:\\2. my workspace and notes\\1. demystify folders\\generativeai-demystified\\.venv\\lib\\site-packages (from requests<3,>=2->langchain==0.3.11) (2.3.0)\nRequirement already satisfied: certifi>=2017.4.17 in d:\\2. my workspace and notes\\1. demystify folders\\generativeai-demystified\\.venv\\lib\\site-packages (from requests<3,>=2->langchain==0.3.11) (2024.12.14)\nRequirement already satisfied: greenlet!=0.4.17 in d:\\2. my workspace and notes\\1. demystify folders\\generativeai-demystified\\.venv\\lib\\site-packages (from SQLAlchemy<3,>=1.4->langchain==0.3.11) (3.1.1)\nRequirement already satisfied: anyio in d:\\2. my workspace and notes\\1. demystify folders\\generativeai-demystified\\.venv\\lib\\site-packages (from httpx<1,>=0.23.0->langsmith<0.3,>=0.1.17->langchain==0.3.11) (4.7.0)\nRequirement already satisfied: httpcore==1.* in d:\\2. my workspace and notes\\1. demystify folders\\generativeai-demystified\\.venv\\lib\\site-packages (from httpx<1,>=0.23.0->langsmith<0.3,>=0.1.17->langchain==0.3.11) (1.0.7)\nRequirement already satisfied: h11<0.15,>=0.13 in d:\\2. my workspace and notes\\1. demystify folders\\generativeai-demystified\\.venv\\lib\\site-packages (from httpcore==1.*->httpx<1,>=0.23.0->langsmith<0.3,>=0.1.17->langchain==0.3.11) (0.14.0)\nRequirement already satisfied: jsonpointer>=1.9 in d:\\2. my workspace and notes\\1. demystify folders\\generativeai-demystified\\.venv\\lib\\site-packages (from jsonpatch<2.0,>=1.33->langchain-core<0.4.0,>=0.3.24->langchain==0.3.11) (3.0.0)\nRequirement already satisfied: exceptiongroup>=1.0.2 in d:\\2. my workspace and notes\\1. demystify folders\\generativeai-demystified\\.venv\\lib\\site-packages (from anyio->httpx<1,>=0.23.0->langsmith<0.3,>=0.1.17->langchain==0.3.11) (1.2.2)\nRequirement already satisfied: sniffio>=1.1 in d:\\2. my workspace and notes\\1. demystify folders\\generativeai-demystified\\.venv\\lib\\site-packages (from anyio->httpx<1,>=0.23.0->langsmith<0.3,>=0.1.17->langchain==0.3.11) (1.3.1)\nRequirement already satisfied: langchain-openai==0.2.12 in d:\\2. my workspace and notes\\1. demystify folders\\generativeai-demystified\\.venv\\lib\\site-packages (0.2.12)\nRequirement already satisfied: langchain-core<0.4.0,>=0.3.21 in d:\\2. my workspace and notes\\1. demystify folders\\generativeai-demystified\\.venv\\lib\\site-packages (from langchain-openai==0.2.12) (0.3.28)\nRequirement already satisfied: openai<2.0.0,>=1.55.3 in d:\\2. my workspace and notes\\1. demystify folders\\generativeai-demystified\\.venv\\lib\\site-packages (from langchain-openai==0.2.12) (1.58.1)\nRequirement already satisfied: tiktoken<1,>=0.7 in d:\\2. my workspace and notes\\1. demystify folders\\generativeai-demystified\\.venv\\lib\\site-packages (from langchain-openai==0.2.12) (0.8.0)\nRequirement already satisfied: PyYAML>=5.3 in d:\\2. my workspace and notes\\1. demystify folders\\generativeai-demystified\\.venv\\lib\\site-packages (from langchain-core<0.4.0,>=0.3.21->langchain-openai==0.2.12) (6.0.2)\nRequirement already satisfied: jsonpatch<2.0,>=1.33 in d:\\2. my workspace and notes\\1. demystify folders\\generativeai-demystified\\.venv\\lib\\site-packages (from langchain-core<0.4.0,>=0.3.21->langchain-openai==0.2.12) (1.33)\nRequirement already satisfied: langsmith<0.3,>=0.1.125 in d:\\2. my workspace and notes\\1. demystify folders\\generativeai-demystified\\.venv\\lib\\site-packages (from langchain-core<0.4.0,>=0.3.21->langchain-openai==0.2.12) (0.2.7)\nRequirement already satisfied: packaging<25,>=23.2 in d:\\2. my workspace and notes\\1. demystify folders\\generativeai-demystified\\.venv\\lib\\site-packages (from langchain-core<0.4.0,>=0.3.21->langchain-openai==0.2.12) (24.2)\nRequirement already satisfied: pydantic<3.0.0,>=2.5.2 in d:\\2. my workspace and notes\\1. demystify folders\\generativeai-demystified\\.venv\\lib\\site-packages (from langchain-core<0.4.0,>=0.3.21->langchain-openai==0.2.12) (2.10.4)\nRequirement already satisfied: tenacity!=8.4.0,<10.0.0,>=8.1.0 in d:\\2. my workspace and notes\\1. demystify folders\\generativeai-demystified\\.venv\\lib\\site-packages (from langchain-core<0.4.0,>=0.3.21->langchain-openai==0.2.12) (9.0.0)\nRequirement already satisfied: typing-extensions>=4.7 in d:\\2. my workspace and notes\\1. demystify folders\\generativeai-demystified\\.venv\\lib\\site-packages (from langchain-core<0.4.0,>=0.3.21->langchain-openai==0.2.12) (4.12.2)\nRequirement already satisfied: anyio<5,>=3.5.0 in d:\\2. my workspace and notes\\1. demystify folders\\generativeai-demystified\\.venv\\lib\\site-packages (from openai<2.0.0,>=1.55.3->langchain-openai==0.2.12) (4.7.0)\nRequirement already satisfied: distro<2,>=1.7.0 in d:\\2. my workspace and notes\\1. demystify folders\\generativeai-demystified\\.venv\\lib\\site-packages (from openai<2.0.0,>=1.55.3->langchain-openai==0.2.12) (1.9.0)\nRequirement already satisfied: httpx<1,>=0.23.0 in d:\\2. my workspace and notes\\1. demystify folders\\generativeai-demystified\\.venv\\lib\\site-packages (from openai<2.0.0,>=1.55.3->langchain-openai==0.2.12) (0.28.1)\nRequirement already satisfied: jiter<1,>=0.4.0 in d:\\2. my workspace and notes\\1. demystify folders\\generativeai-demystified\\.venv\\lib\\site-packages (from openai<2.0.0,>=1.55.3->langchain-openai==0.2.12) (0.8.2)\nRequirement already satisfied: sniffio in d:\\2. my workspace and notes\\1. demystify folders\\generativeai-demystified\\.venv\\lib\\site-packages (from openai<2.0.0,>=1.55.3->langchain-openai==0.2.12) (1.3.1)\nRequirement already satisfied: tqdm>4 in d:\\2. my workspace and notes\\1. demystify folders\\generativeai-demystified\\.venv\\lib\\site-packages (from openai<2.0.0,>=1.55.3->langchain-openai==0.2.12) (4.67.1)\nRequirement already satisfied: regex>=2022.1.18 in d:\\2. my workspace and notes\\1. demystify folders\\generativeai-demystified\\.venv\\lib\\site-packages (from tiktoken<1,>=0.7->langchain-openai==0.2.12) (2024.11.6)\nRequirement already satisfied: requests>=2.26.0 in d:\\2. my workspace and notes\\1. demystify folders\\generativeai-demystified\\.venv\\lib\\site-packages (from tiktoken<1,>=0.7->langchain-openai==0.2.12) (2.32.3)\nRequirement already satisfied: exceptiongroup>=1.0.2 in d:\\2. my workspace and notes\\1. demystify folders\\generativeai-demystified\\.venv\\lib\\site-packages (from anyio<5,>=3.5.0->openai<2.0.0,>=1.55.3->langchain-openai==0.2.12) (1.2.2)\nRequirement already satisfied: idna>=2.8 in d:\\2. my workspace and notes\\1. demystify folders\\generativeai-demystified\\.venv\\lib\\site-packages (from anyio<5,>=3.5.0->openai<2.0.0,>=1.55.3->langchain-openai==0.2.12) (3.10)\nRequirement already satisfied: certifi in d:\\2. my workspace and notes\\1. demystify folders\\generativeai-demystified\\.venv\\lib\\site-packages (from httpx<1,>=0.23.0->openai<2.0.0,>=1.55.3->langchain-openai==0.2.12) (2024.12.14)\nRequirement already satisfied: httpcore==1.* in d:\\2. my workspace and notes\\1. demystify folders\\generativeai-demystified\\.venv\\lib\\site-packages (from httpx<1,>=0.23.0->openai<2.0.0,>=1.55.3->langchain-openai==0.2.12) (1.0.7)\nRequirement already satisfied: h11<0.15,>=0.13 in d:\\2. my workspace and notes\\1. demystify folders\\generativeai-demystified\\.venv\\lib\\site-packages (from httpcore==1.*->httpx<1,>=0.23.0->openai<2.0.0,>=1.55.3->langchain-openai==0.2.12) (0.14.0)\nRequirement already satisfied: jsonpointer>=1.9 in d:\\2. my workspace and notes\\1. demystify folders\\generativeai-demystified\\.venv\\lib\\site-packages (from jsonpatch<2.0,>=1.33->langchain-core<0.4.0,>=0.3.21->langchain-openai==0.2.12) (3.0.0)\nRequirement already satisfied: orjson<4.0.0,>=3.9.14 in d:\\2. my workspace and notes\\1. demystify folders\\generativeai-demystified\\.venv\\lib\\site-packages (from langsmith<0.3,>=0.1.125->langchain-core<0.4.0,>=0.3.21->langchain-openai==0.2.12) (3.10.13)\nRequirement already satisfied: requests-toolbelt<2.0.0,>=1.0.0 in d:\\2. my workspace and notes\\1. demystify folders\\generativeai-demystified\\.venv\\lib\\site-packages (from langsmith<0.3,>=0.1.125->langchain-core<0.4.0,>=0.3.21->langchain-openai==0.2.12) (1.0.0)\nRequirement already satisfied: annotated-types>=0.6.0 in d:\\2. my workspace and notes\\1. demystify folders\\generativeai-demystified\\.venv\\lib\\site-packages (from pydantic<3.0.0,>=2.5.2->langchain-core<0.4.0,>=0.3.21->langchain-openai==0.2.12) (0.7.0)\nRequirement already satisfied: pydantic-core==2.27.2 in d:\\2. my workspace and notes\\1. demystify folders\\generativeai-demystified\\.venv\\lib\\site-packages (from pydantic<3.0.0,>=2.5.2->langchain-core<0.4.0,>=0.3.21->langchain-openai==0.2.12) (2.27.2)\nRequirement already satisfied: charset-normalizer<4,>=2 in d:\\2. my workspace and notes\\1. demystify folders\\generativeai-demystified\\.venv\\lib\\site-packages (from requests>=2.26.0->tiktoken<1,>=0.7->langchain-openai==0.2.12) (3.4.1)\nRequirement already satisfied: urllib3<3,>=1.21.1 in d:\\2. my workspace and notes\\1. demystify folders\\generativeai-demystified\\.venv\\lib\\site-packages (from requests>=2.26.0->tiktoken<1,>=0.7->langchain-openai==0.2.12) (2.3.0)\nRequirement already satisfied: colorama in d:\\2. my workspace and notes\\1. demystify folders\\generativeai-demystified\\.venv\\lib\\site-packages (from tqdm>4->openai<2.0.0,>=1.55.3->langchain-openai==0.2.12) (0.4.6)\n"
     ]
    }
   ],
   "source": [
    "!pip install langchain==0.3.11\n",
    "!pip install langchain-openai==0.2.12"
   ]
  },
  {
   "cell_type": "markdown",
   "metadata": {
    "application/vnd.databricks.v1+cell": {
     "cellMetadata": {},
     "inputWidgets": {},
     "nuid": "b693afd2-489c-4900-9ebb-f7be13a3bcd6",
     "showTitle": false,
     "tableResultSettingsMap": {},
     "title": ""
    },
    "id": "g5pyPRU4iVOy"
   },
   "source": [
    "## Setup Open AI API credentials"
   ]
  },
  {
   "cell_type": "code",
   "execution_count": 0,
   "metadata": {
    "application/vnd.databricks.v1+cell": {
     "cellMetadata": {},
     "inputWidgets": {},
     "nuid": "b431c14c-d694-4a3e-aa38-d0cbcb8ac9df",
     "showTitle": false,
     "tableResultSettingsMap": {},
     "title": ""
    }
   },
   "outputs": [],
   "source": [
    "from getpass import getpass\n",
    "\n",
    "OPENAI_KEY = getpass('Enter Open AI API Key: ')"
   ]
  },
  {
   "cell_type": "code",
   "execution_count": 0,
   "metadata": {
    "application/vnd.databricks.v1+cell": {
     "cellMetadata": {},
     "inputWidgets": {},
     "nuid": "e5ce9fe4-0c31-4640-979e-c23f7d6b940d",
     "showTitle": false,
     "tableResultSettingsMap": {},
     "title": ""
    },
    "id": "cKlax-updNW-"
   },
   "outputs": [],
   "source": [
    "import os\n",
    "\n",
    "os.environ['OPENAI_API_KEY'] = OPENAI_KEY"
   ]
  },
  {
   "cell_type": "markdown",
   "metadata": {
    "application/vnd.databricks.v1+cell": {
     "cellMetadata": {},
     "inputWidgets": {},
     "nuid": "7c80768b-f489-4209-940a-b879bac3f9f7",
     "showTitle": false,
     "tableResultSettingsMap": {},
     "title": ""
    },
    "id": "nm5l_l_7ioaV"
   },
   "source": [
    "## Connect to the LLM"
   ]
  },
  {
   "cell_type": "code",
   "execution_count": 0,
   "metadata": {
    "application/vnd.databricks.v1+cell": {
     "cellMetadata": {},
     "inputWidgets": {},
     "nuid": "633b0742-6ae9-43aa-97af-d4a192d068fb",
     "showTitle": false,
     "tableResultSettingsMap": {},
     "title": ""
    },
    "id": "3F6iaMmdinxH"
   },
   "outputs": [],
   "source": [
    "from langchain_openai import ChatOpenAI\n",
    "\n",
    "chatgpt = ChatOpenAI(model_name=\"gpt-4o-mini\", temperature=0)"
   ]
  },
  {
   "cell_type": "markdown",
   "metadata": {
    "application/vnd.databricks.v1+cell": {
     "cellMetadata": {},
     "inputWidgets": {},
     "nuid": "02ea2258-4b39-4b99-a330-d4ed613d41a7",
     "showTitle": false,
     "tableResultSettingsMap": {},
     "title": ""
    },
    "id": "drMdp1XVs9Hv"
   },
   "source": [
    "## Create LCEL LLM Chain"
   ]
  },
  {
   "cell_type": "code",
   "execution_count": 0,
   "metadata": {
    "application/vnd.databricks.v1+cell": {
     "cellMetadata": {},
     "inputWidgets": {},
     "nuid": "3fa93a58-a59a-4454-9d3c-0a68aaeb038d",
     "showTitle": false,
     "tableResultSettingsMap": {},
     "title": ""
    },
    "id": "WKsCborniZxE"
   },
   "outputs": [],
   "source": [
    "from langchain_core.prompts import ChatPromptTemplate\n",
    "\n",
    "# create a prompt template to accept user queries\n",
    "prompt_txt = \"{query}\"\n",
    "prompt_template = ChatPromptTemplate.from_template(prompt_txt)\n",
    "\n",
    "# the chain has been formatted for better readability\n",
    "# you could also write this as llmchain = prompt_template | chatgpt\n",
    "llmchain = (prompt_template\n",
    "              |\n",
    "           chatgpt)"
   ]
  },
  {
   "cell_type": "markdown",
   "metadata": {
    "application/vnd.databricks.v1+cell": {
     "cellMetadata": {},
     "inputWidgets": {},
     "nuid": "74549395-dc6a-461b-915b-a4dd2f13c099",
     "showTitle": false,
     "tableResultSettingsMap": {},
     "title": ""
    },
    "id": "d1JzZt0xtAUf"
   },
   "source": [
    "## Run the LLM Chain"
   ]
  },
  {
   "cell_type": "code",
   "execution_count": 0,
   "metadata": {
    "application/vnd.databricks.v1+cell": {
     "cellMetadata": {},
     "inputWidgets": {},
     "nuid": "cb1a6963-1aec-4a03-9740-ddbbd44c1a1a",
     "showTitle": false,
     "tableResultSettingsMap": {},
     "title": ""
    },
    "colab": {
     "base_uri": "https://localhost:8080/"
    },
    "id": "0Z-pC6PdjuFc",
    "outputId": "cba0212d-6260-492a-ca3d-39fb0a207b05"
   },
   "outputs": [
    {
     "output_type": "stream",
     "name": "stdout",
     "output_type": "stream",
     "text": [
      "Generative AI refers to algorithms that can create new content, such as text, images, or music, by learning patterns from existing data.\n"
     ]
    }
   ],
   "source": [
    "response = llmchain.invoke({'query' : 'Explain Generative AI in 1 line'})\n",
    "print(response.content)"
   ]
  },
  {
   "cell_type": "code",
   "execution_count": 0,
   "metadata": {
    "application/vnd.databricks.v1+cell": {
     "cellMetadata": {},
     "inputWidgets": {},
     "nuid": "657ab7ea-98f0-4f72-a8b4-e584cb2c179b",
     "showTitle": false,
     "tableResultSettingsMap": {},
     "title": ""
    }
   },
   "outputs": [
    {
     "output_type": "stream",
     "name": "stdout",
     "output_type": "stream",
     "text": [
      "Collecting langchain_community\n  Downloading langchain_community-0.3.13-py3-none-any.whl.metadata (2.9 kB)\nRequirement already satisfied: PyYAML>=5.3 in d:\\2. my workspace and notes\\1. demystify folders\\generativeai-demystified\\.venv\\lib\\site-packages (from langchain_community) (6.0.2)\nRequirement already satisfied: SQLAlchemy<3,>=1.4 in d:\\2. my workspace and notes\\1. demystify folders\\generativeai-demystified\\.venv\\lib\\site-packages (from langchain_community) (2.0.36)\nRequirement already satisfied: aiohttp<4.0.0,>=3.8.3 in d:\\2. my workspace and notes\\1. demystify folders\\generativeai-demystified\\.venv\\lib\\site-packages (from langchain_community) (3.11.11)\nCollecting dataclasses-json<0.7,>=0.5.7 (from langchain_community)\n  Downloading dataclasses_json-0.6.7-py3-none-any.whl.metadata (25 kB)\nCollecting httpx-sse<0.5.0,>=0.4.0 (from langchain_community)\n  Downloading httpx_sse-0.4.0-py3-none-any.whl.metadata (9.0 kB)\nCollecting langchain<0.4.0,>=0.3.13 (from langchain_community)\n  Downloading langchain-0.3.13-py3-none-any.whl.metadata (7.1 kB)\nRequirement already satisfied: langchain-core<0.4.0,>=0.3.27 in d:\\2. my workspace and notes\\1. demystify folders\\generativeai-demystified\\.venv\\lib\\site-packages (from langchain_community) (0.3.28)\nRequirement already satisfied: langsmith<0.3,>=0.1.125 in d:\\2. my workspace and notes\\1. demystify folders\\generativeai-demystified\\.venv\\lib\\site-packages (from langchain_community) (0.2.7)\nRequirement already satisfied: numpy<2,>=1.22.4 in d:\\2. my workspace and notes\\1. demystify folders\\generativeai-demystified\\.venv\\lib\\site-packages (from langchain_community) (1.26.4)\nCollecting pydantic-settings<3.0.0,>=2.4.0 (from langchain_community)\n  Downloading pydantic_settings-2.7.0-py3-none-any.whl.metadata (3.5 kB)\nRequirement already satisfied: requests<3,>=2 in d:\\2. my workspace and notes\\1. demystify folders\\generativeai-demystified\\.venv\\lib\\site-packages (from langchain_community) (2.32.3)\nRequirement already satisfied: tenacity!=8.4.0,<10,>=8.1.0 in d:\\2. my workspace and notes\\1. demystify folders\\generativeai-demystified\\.venv\\lib\\site-packages (from langchain_community) (9.0.0)\nRequirement already satisfied: aiohappyeyeballs>=2.3.0 in d:\\2. my workspace and notes\\1. demystify folders\\generativeai-demystified\\.venv\\lib\\site-packages (from aiohttp<4.0.0,>=3.8.3->langchain_community) (2.4.4)\nRequirement already satisfied: aiosignal>=1.1.2 in d:\\2. my workspace and notes\\1. demystify folders\\generativeai-demystified\\.venv\\lib\\site-packages (from aiohttp<4.0.0,>=3.8.3->langchain_community) (1.3.2)\nRequirement already satisfied: async-timeout<6.0,>=4.0 in d:\\2. my workspace and notes\\1. demystify folders\\generativeai-demystified\\.venv\\lib\\site-packages (from aiohttp<4.0.0,>=3.8.3->langchain_community) (4.0.3)\nRequirement already satisfied: attrs>=17.3.0 in d:\\2. my workspace and notes\\1. demystify folders\\generativeai-demystified\\.venv\\lib\\site-packages (from aiohttp<4.0.0,>=3.8.3->langchain_community) (24.3.0)\nRequirement already satisfied: frozenlist>=1.1.1 in d:\\2. my workspace and notes\\1. demystify folders\\generativeai-demystified\\.venv\\lib\\site-packages (from aiohttp<4.0.0,>=3.8.3->langchain_community) (1.5.0)\nRequirement already satisfied: multidict<7.0,>=4.5 in d:\\2. my workspace and notes\\1. demystify folders\\generativeai-demystified\\.venv\\lib\\site-packages (from aiohttp<4.0.0,>=3.8.3->langchain_community) (6.1.0)\nRequirement already satisfied: propcache>=0.2.0 in d:\\2. my workspace and notes\\1. demystify folders\\generativeai-demystified\\.venv\\lib\\site-packages (from aiohttp<4.0.0,>=3.8.3->langchain_community) (0.2.1)\nRequirement already satisfied: yarl<2.0,>=1.17.0 in d:\\2. my workspace and notes\\1. demystify folders\\generativeai-demystified\\.venv\\lib\\site-packages (from aiohttp<4.0.0,>=3.8.3->langchain_community) (1.18.3)\nCollecting marshmallow<4.0.0,>=3.18.0 (from dataclasses-json<0.7,>=0.5.7->langchain_community)\n  Downloading marshmallow-3.23.2-py3-none-any.whl.metadata (7.1 kB)\nCollecting typing-inspect<1,>=0.4.0 (from dataclasses-json<0.7,>=0.5.7->langchain_community)\n  Downloading typing_inspect-0.9.0-py3-none-any.whl.metadata (1.5 kB)\nRequirement already satisfied: langchain-text-splitters<0.4.0,>=0.3.3 in d:\\2. my workspace and notes\\1. demystify folders\\generativeai-demystified\\.venv\\lib\\site-packages (from langchain<0.4.0,>=0.3.13->langchain_community) (0.3.4)\nRequirement already satisfied: pydantic<3.0.0,>=2.7.4 in d:\\2. my workspace and notes\\1. demystify folders\\generativeai-demystified\\.venv\\lib\\site-packages (from langchain<0.4.0,>=0.3.13->langchain_community) (2.10.4)\nRequirement already satisfied: jsonpatch<2.0,>=1.33 in d:\\2. my workspace and notes\\1. demystify folders\\generativeai-demystified\\.venv\\lib\\site-packages (from langchain-core<0.4.0,>=0.3.27->langchain_community) (1.33)\nRequirement already satisfied: packaging<25,>=23.2 in d:\\2. my workspace and notes\\1. demystify folders\\generativeai-demystified\\.venv\\lib\\site-packages (from langchain-core<0.4.0,>=0.3.27->langchain_community) (24.2)\nRequirement already satisfied: typing-extensions>=4.7 in d:\\2. my workspace and notes\\1. demystify folders\\generativeai-demystified\\.venv\\lib\\site-packages (from langchain-core<0.4.0,>=0.3.27->langchain_community) (4.12.2)\nRequirement already satisfied: httpx<1,>=0.23.0 in d:\\2. my workspace and notes\\1. demystify folders\\generativeai-demystified\\.venv\\lib\\site-packages (from langsmith<0.3,>=0.1.125->langchain_community) (0.28.1)\nRequirement already satisfied: orjson<4.0.0,>=3.9.14 in d:\\2. my workspace and notes\\1. demystify folders\\generativeai-demystified\\.venv\\lib\\site-packages (from langsmith<0.3,>=0.1.125->langchain_community) (3.10.13)\nRequirement already satisfied: requests-toolbelt<2.0.0,>=1.0.0 in d:\\2. my workspace and notes\\1. demystify folders\\generativeai-demystified\\.venv\\lib\\site-packages (from langsmith<0.3,>=0.1.125->langchain_community) (1.0.0)\nCollecting python-dotenv>=0.21.0 (from pydantic-settings<3.0.0,>=2.4.0->langchain_community)\n  Downloading python_dotenv-1.0.1-py3-none-any.whl.metadata (23 kB)\nRequirement already satisfied: charset-normalizer<4,>=2 in d:\\2. my workspace and notes\\1. demystify folders\\generativeai-demystified\\.venv\\lib\\site-packages (from requests<3,>=2->langchain_community) (3.4.1)\nRequirement already satisfied: idna<4,>=2.5 in d:\\2. my workspace and notes\\1. demystify folders\\generativeai-demystified\\.venv\\lib\\site-packages (from requests<3,>=2->langchain_community) (3.10)\nRequirement already satisfied: urllib3<3,>=1.21.1 in d:\\2. my workspace and notes\\1. demystify folders\\generativeai-demystified\\.venv\\lib\\site-packages (from requests<3,>=2->langchain_community) (2.3.0)\nRequirement already satisfied: certifi>=2017.4.17 in d:\\2. my workspace and notes\\1. demystify folders\\generativeai-demystified\\.venv\\lib\\site-packages (from requests<3,>=2->langchain_community) (2024.12.14)\nRequirement already satisfied: greenlet!=0.4.17 in d:\\2. my workspace and notes\\1. demystify folders\\generativeai-demystified\\.venv\\lib\\site-packages (from SQLAlchemy<3,>=1.4->langchain_community) (3.1.1)\nRequirement already satisfied: anyio in d:\\2. my workspace and notes\\1. demystify folders\\generativeai-demystified\\.venv\\lib\\site-packages (from httpx<1,>=0.23.0->langsmith<0.3,>=0.1.125->langchain_community) (4.7.0)\nRequirement already satisfied: httpcore==1.* in d:\\2. my workspace and notes\\1. demystify folders\\generativeai-demystified\\.venv\\lib\\site-packages (from httpx<1,>=0.23.0->langsmith<0.3,>=0.1.125->langchain_community) (1.0.7)\nRequirement already satisfied: h11<0.15,>=0.13 in d:\\2. my workspace and notes\\1. demystify folders\\generativeai-demystified\\.venv\\lib\\site-packages (from httpcore==1.*->httpx<1,>=0.23.0->langsmith<0.3,>=0.1.125->langchain_community) (0.14.0)\nRequirement already satisfied: jsonpointer>=1.9 in d:\\2. my workspace and notes\\1. demystify folders\\generativeai-demystified\\.venv\\lib\\site-packages (from jsonpatch<2.0,>=1.33->langchain-core<0.4.0,>=0.3.27->langchain_community) (3.0.0)\nRequirement already satisfied: annotated-types>=0.6.0 in d:\\2. my workspace and notes\\1. demystify folders\\generativeai-demystified\\.venv\\lib\\site-packages (from pydantic<3.0.0,>=2.7.4->langchain<0.4.0,>=0.3.13->langchain_community) (0.7.0)\nRequirement already satisfied: pydantic-core==2.27.2 in d:\\2. my workspace and notes\\1. demystify folders\\generativeai-demystified\\.venv\\lib\\site-packages (from pydantic<3.0.0,>=2.7.4->langchain<0.4.0,>=0.3.13->langchain_community) (2.27.2)\nCollecting mypy-extensions>=0.3.0 (from typing-inspect<1,>=0.4.0->dataclasses-json<0.7,>=0.5.7->langchain_community)\n  Downloading mypy_extensions-1.0.0-py3-none-any.whl.metadata (1.1 kB)\nRequirement already satisfied: exceptiongroup>=1.0.2 in d:\\2. my workspace and notes\\1. demystify folders\\generativeai-demystified\\.venv\\lib\\site-packages (from anyio->httpx<1,>=0.23.0->langsmith<0.3,>=0.1.125->langchain_community) (1.2.2)\nRequirement already satisfied: sniffio>=1.1 in d:\\2. my workspace and notes\\1. demystify folders\\generativeai-demystified\\.venv\\lib\\site-packages (from anyio->httpx<1,>=0.23.0->langsmith<0.3,>=0.1.125->langchain_community) (1.3.1)\nDownloading langchain_community-0.3.13-py3-none-any.whl (2.5 MB)\n   ---------------------------------------- 0.0/2.5 MB ? eta -:--:--\n   ---------------------------------------- 2.5/2.5 MB 23.8 MB/s eta 0:00:00\nDownloading dataclasses_json-0.6.7-py3-none-any.whl (28 kB)\nDownloading httpx_sse-0.4.0-py3-none-any.whl (7.8 kB)\nDownloading langchain-0.3.13-py3-none-any.whl (1.0 MB)\n   ---------------------------------------- 0.0/1.0 MB ? eta -:--:--\n   ---------------------------------------- 1.0/1.0 MB 46.7 MB/s eta 0:00:00\nDownloading pydantic_settings-2.7.0-py3-none-any.whl (29 kB)\nDownloading marshmallow-3.23.2-py3-none-any.whl (49 kB)\nDownloading python_dotenv-1.0.1-py3-none-any.whl (19 kB)\nDownloading typing_inspect-0.9.0-py3-none-any.whl (8.8 kB)\nDownloading mypy_extensions-1.0.0-py3-none-any.whl (4.7 kB)\nInstalling collected packages: python-dotenv, mypy-extensions, marshmallow, httpx-sse, typing-inspect, pydantic-settings, dataclasses-json, langchain, langchain_community\n  Attempting uninstall: langchain\n    Found existing installation: langchain 0.3.11\n    Uninstalling langchain-0.3.11:\n      Successfully uninstalled langchain-0.3.11\nSuccessfully installed dataclasses-json-0.6.7 httpx-sse-0.4.0 langchain-0.3.13 langchain_community-0.3.13 marshmallow-3.23.2 mypy-extensions-1.0.0 pydantic-settings-2.7.0 python-dotenv-1.0.1 typing-inspect-0.9.0\n"
     ]
    }
   ],
   "source": [
    "!pip install langchain_community"
   ]
  },
  {
   "cell_type": "code",
   "execution_count": 0,
   "metadata": {
    "application/vnd.databricks.v1+cell": {
     "cellMetadata": {},
     "inputWidgets": {},
     "nuid": "77c429a6-6260-4ba4-9473-c36c89fdc2a5",
     "showTitle": false,
     "tableResultSettingsMap": {},
     "title": ""
    }
   },
   "outputs": [],
   "source": [
    "from langchain_openai import ChatOpenAI\n",
    "from langchain.chains import create_sql_query_chain\n",
    "from langchain_community.utilities import SQLDatabase\n",
    "\n",
    "db = SQLDatabase.from_uri(\"sqlite:///Chinook.db\")\n",
    "llm = ChatOpenAI(model=\"gpt-3.5-turbo\", temperature=0)\n",
    "chain = create_sql_query_chain(llm, db)\n",
    "response = chain.invoke({\"question\": \"How many employees are there\"})"
   ]
  },
  {
   "cell_type": "code",
   "execution_count": 0,
   "metadata": {
    "application/vnd.databricks.v1+cell": {
     "cellMetadata": {},
     "inputWidgets": {},
     "nuid": "0eba289d-519c-467a-8a8e-0b2ed3b800bb",
     "showTitle": false,
     "tableResultSettingsMap": {},
     "title": ""
    }
   },
   "outputs": [
    {
     "output_type": "execute_result",
     "data": {
      "text/plain": [
       "'SELECT COUNT(\"employee_id\") AS num_employees\\nFROM \"employees\"'"
      ]
     },
     "execution_count": 10,
     "metadata": {},
     "output_type": "execute_result"
    }
   ],
   "source": [
    "response"
   ]
  },
  {
   "cell_type": "code",
   "execution_count": 0,
   "metadata": {
    "application/vnd.databricks.v1+cell": {
     "cellMetadata": {},
     "inputWidgets": {},
     "nuid": "2c85ddb1-39ec-4363-980c-399e41e99103",
     "showTitle": false,
     "tableResultSettingsMap": {},
     "title": ""
    }
   },
   "outputs": [],
   "source": []
  }
 ],
 "metadata": {
  "application/vnd.databricks.v1+notebook": {
   "computePreferences": null,
   "dashboards": [],
   "environmentMetadata": null,
   "language": "python",
   "notebookMetadata": {},
   "notebookName": "M2 L2_Simple_LangChain_LCEL_Chain_Example",
   "widgets": {}
  },
  "colab": {
   "provenance": []
  },
  "kernelspec": {
   "display_name": ".venv",
   "language": "python",
   "name": "python3"
  },
  "language_info": {
   "name": "python"
  }
 },
 "nbformat": 4,
 "nbformat_minor": 0
}
